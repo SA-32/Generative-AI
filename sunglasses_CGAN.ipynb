{
 "cells": [
  {
   "cell_type": "code",
   "execution_count": null,
   "id": "60362a94",
   "metadata": {},
   "outputs": [
    {
     "name": "stdout",
     "output_type": "stream",
     "text": [
      "Please provide your Kaggle credentials to download this dataset. Learn more: http://bit.ly/kaggle-creds\n",
      "Your Kaggle username:Your Kaggle Key:Dataset URL: https://www.kaggle.com/datasets/jeffheaton/glasses-or-no-glasses\n"
     ]
    }
   ],
   "source": [
    "import opendatasets as od\n",
    "od.download(\"https://www.kaggle.com/datasets/jeffheaton/glasses-or-no-glasses\")"
   ]
  },
  {
   "cell_type": "code",
   "execution_count": 1,
   "id": "ed191c31",
   "metadata": {},
   "outputs": [],
   "source": [
    "import torch\n",
    "import torch.nn as nn"
   ]
  },
  {
   "cell_type": "code",
   "execution_count": null,
   "id": "3737b06d",
   "metadata": {},
   "outputs": [],
   "source": [
    "class Block(nn.Module):\n",
    "    def __init__(self, input_channels, output_channels, kernel_size, stride, padding):\n",
    "        super().__init__()\n",
    "        self.layer = nn.Sequential(\n",
    "            nn.Conv2d(input_channels, output_channels, kernel_size, stride, padding),\n",
    "            nn.InstanceNorm2d(output_channels),\n",
    "            nn.LeakyReLU()\n",
    "        )\n",
    "\n",
    "    def forward(self, x):\n",
    "        return self.layer(x)"
   ]
  },
  {
   "cell_type": "code",
   "execution_count": null,
   "id": "ab5a3aa6",
   "metadata": {},
   "outputs": [],
   "source": [
    "class Discriminator(nn.Module):\n",
    "    def __init__(self, input_channels = 5,output_channels= [16, 32, 64, 128, 256, 512]):\n",
    "        super().__init__()\n",
    "        self.fc1 = nn.Sequential(\n",
    "            nn.Conv2d(input_channels, output_channels[0], kernel_size = 4, stride = 2, padding = 1),\n",
    "            nn.LeakyReLU()\n",
    "        )\n",
    "        layer = [Block(output_channels[i], output_channels[i+1], 4, 2, 1) for i in range(5)]\n",
    "\n",
    "        self.backbone = nn.Sequential(*layer)\n",
    "\n",
    "        self.fc2 = nn.Conv2d(output_channels[-1], 1, kernel_size = 4, stride = 2, padding = 0)\n",
    "\n",
    "    def forward(self, x):\n",
    "        x = self.fc1(x)\n",
    "        x = self.backbone(x)\n",
    "\n",
    "        return self.fc2(x)"
   ]
  },
  {
   "cell_type": "code",
   "execution_count": 4,
   "id": "d765cbe9",
   "metadata": {},
   "outputs": [
    {
     "name": "stdout",
     "output_type": "stream",
     "text": [
      "torch.Size([6, 1, 1, 1])\n"
     ]
    }
   ],
   "source": [
    "D_model = Discriminator()\n",
    "input = torch.randn(6,5,256,256)\n",
    "print(D_model(input).shape)"
   ]
  },
  {
   "cell_type": "code",
   "execution_count": 13,
   "id": "4bc6415b",
   "metadata": {},
   "outputs": [],
   "source": [
    "class GeneratorBlock(nn.Module):\n",
    "    def __init__(self, input_channels, output_channels, k, s, p):\n",
    "        super().__init__()\n",
    "        self.layer = nn.Sequential(\n",
    "            nn.ConvTranspose2d(input_channels, output_channels, kernel_size = k , stride = s, padding = p),\n",
    "            nn.BatchNorm2d(output_channels),\n",
    "            nn.ReLU()\n",
    "        )\n",
    "\n",
    "    def forward(self,x):\n",
    "        return self.layer(x)"
   ]
  },
  {
   "cell_type": "code",
   "execution_count": 14,
   "id": "2539128d",
   "metadata": {},
   "outputs": [],
   "source": [
    "class Generator(nn.Module):\n",
    "    def __init__(self, input_channels = 100 + 2, output_channels = [512, 256, 128, 64, 32, 16]):\n",
    "        super().__init__()\n",
    "        layer = [GeneratorBlock(output_channels[i], output_channels[i+1], 4, 2, 1) for i in range(5)]\n",
    "        self.backbone = nn.Sequential(nn.ConvTranspose2d(input_channels, output_channels[0], kernel_size = 4, stride = 2, padding = 0),\n",
    "                                      nn.BatchNorm2d(output_channels[0]),\n",
    "                                      nn.ReLU(),\n",
    "            *layer,\n",
    "            nn.ConvTranspose2d(output_channels[-1], 3, kernel_size = 4, stride = 2, padding = 1),\n",
    "            nn.Tanh()\n",
    "        )\n",
    "\n",
    "    def forward(self, x):\n",
    "        return self.backbone(x)"
   ]
  },
  {
   "cell_type": "code",
   "execution_count": 15,
   "id": "fd046122",
   "metadata": {},
   "outputs": [
    {
     "name": "stdout",
     "output_type": "stream",
     "text": [
      "Generator(\n",
      "  (backbone): Sequential(\n",
      "    (0): ConvTranspose2d(102, 512, kernel_size=(4, 4), stride=(2, 2))\n",
      "    (1): BatchNorm2d(512, eps=1e-05, momentum=0.1, affine=True, track_running_stats=True)\n",
      "    (2): ReLU()\n",
      "    (3): GeneratorBlock(\n",
      "      (layer): Sequential(\n",
      "        (0): ConvTranspose2d(512, 256, kernel_size=(4, 4), stride=(2, 2), padding=(1, 1))\n",
      "        (1): BatchNorm2d(256, eps=1e-05, momentum=0.1, affine=True, track_running_stats=True)\n",
      "        (2): ReLU()\n",
      "      )\n",
      "    )\n",
      "    (4): GeneratorBlock(\n",
      "      (layer): Sequential(\n",
      "        (0): ConvTranspose2d(256, 128, kernel_size=(4, 4), stride=(2, 2), padding=(1, 1))\n",
      "        (1): BatchNorm2d(128, eps=1e-05, momentum=0.1, affine=True, track_running_stats=True)\n",
      "        (2): ReLU()\n",
      "      )\n",
      "    )\n",
      "    (5): GeneratorBlock(\n",
      "      (layer): Sequential(\n",
      "        (0): ConvTranspose2d(128, 64, kernel_size=(4, 4), stride=(2, 2), padding=(1, 1))\n",
      "        (1): BatchNorm2d(64, eps=1e-05, momentum=0.1, affine=True, track_running_stats=True)\n",
      "        (2): ReLU()\n",
      "      )\n",
      "    )\n",
      "    (6): GeneratorBlock(\n",
      "      (layer): Sequential(\n",
      "        (0): ConvTranspose2d(64, 32, kernel_size=(4, 4), stride=(2, 2), padding=(1, 1))\n",
      "        (1): BatchNorm2d(32, eps=1e-05, momentum=0.1, affine=True, track_running_stats=True)\n",
      "        (2): ReLU()\n",
      "      )\n",
      "    )\n",
      "    (7): GeneratorBlock(\n",
      "      (layer): Sequential(\n",
      "        (0): ConvTranspose2d(32, 16, kernel_size=(4, 4), stride=(2, 2), padding=(1, 1))\n",
      "        (1): BatchNorm2d(16, eps=1e-05, momentum=0.1, affine=True, track_running_stats=True)\n",
      "        (2): ReLU()\n",
      "      )\n",
      "    )\n",
      "    (8): ConvTranspose2d(16, 3, kernel_size=(4, 4), stride=(2, 2), padding=(1, 1))\n",
      "    (9): Tanh()\n",
      "  )\n",
      ")\n"
     ]
    }
   ],
   "source": [
    "G_model = Generator()\n",
    "print(G_model)"
   ]
  },
  {
   "cell_type": "code",
   "execution_count": 16,
   "id": "fb2ba959",
   "metadata": {},
   "outputs": [
    {
     "name": "stdout",
     "output_type": "stream",
     "text": [
      "torch.Size([6, 3, 256, 256])\n"
     ]
    }
   ],
   "source": [
    "input = torch.randn(6,102, 1, 1)\n",
    "print(G_model(input).shape)"
   ]
  },
  {
   "cell_type": "code",
   "execution_count": 1,
   "id": "3867cc3a",
   "metadata": {},
   "outputs": [
    {
     "ename": "NameError",
     "evalue": "name 'torch' is not defined",
     "output_type": "error",
     "traceback": [
      "\u001b[1;31m---------------------------------------------------------------------------\u001b[0m",
      "\u001b[1;31mNameError\u001b[0m                                 Traceback (most recent call last)",
      "Cell \u001b[1;32mIn[1], line 1\u001b[0m\n\u001b[1;32m----> 1\u001b[0m device \u001b[38;5;241m=\u001b[39m \u001b[43mtorch\u001b[49m\u001b[38;5;241m.\u001b[39mdevice(\u001b[38;5;124m'\u001b[39m\u001b[38;5;124mcuda\u001b[39m\u001b[38;5;124m'\u001b[39m \u001b[38;5;28;01mif\u001b[39;00m torch\u001b[38;5;241m.\u001b[39mdevice\u001b[38;5;241m.\u001b[39mis_available() \u001b[38;5;28;01melse\u001b[39;00m \u001b[38;5;124m'\u001b[39m\u001b[38;5;124mcpu\u001b[39m\u001b[38;5;124m'\u001b[39m)\n",
      "\u001b[1;31mNameError\u001b[0m: name 'torch' is not defined"
     ]
    }
   ],
   "source": [
    "device = torch.device('cuda' if torch.device.is_available() else 'cpu')"
   ]
  },
  {
   "cell_type": "code",
   "execution_count": null,
   "id": "3c18120a",
   "metadata": {},
   "outputs": [],
   "source": [
    "from torch.utils.data import DataLoader, ImageFolder"
   ]
  },
  {
   "cell_type": "code",
   "execution_count": null,
   "id": "8e4ca977",
   "metadata": {},
   "outputs": [],
   "source": [
    "dataset = ImageFolder(root_dir)"
   ]
  },
  {
   "cell_type": "code",
   "execution_count": null,
   "id": "7444d142",
   "metadata": {},
   "outputs": [],
   "source": [
    "new_data = []\n",
    "for idx, (image, label) in enumerate(dataset):\n",
    "    onehot = torch.zeros((1,2))\n",
    "    onehot[label] = 1\n",
    "    image_labels = torch.zeros(2, img_size, img_size)\n",
    "    image_labels[label,:,:] = 1\n",
    "    real_image_with_label = torch.cat([image_labels, image], dim = 0)\n",
    "\n",
    "    new_data.append(image, label, onehot, real_image_with_label)\n"
   ]
  },
  {
   "cell_type": "code",
   "execution_count": null,
   "id": "274edc6f",
   "metadata": {},
   "outputs": [],
   "source": [
    "data_loader = DataLoader(new_data, batch_size = 16, shuffle = True, pin_memory = True)"
   ]
  },
  {
   "cell_type": "code",
   "execution_count": null,
   "id": "53eaafec",
   "metadata": {},
   "outputs": [],
   "source": [
    "class Model():\n",
    "    def __init__(self, alpha, beta):\n",
    "        self.D_model = Discriminator().to(device)\n",
    "        self.G_model = Generator().to(device)\n",
    "        self.D_opt = torch.optim.Adam(self.D_model.parameters(), lr = alpha)\n",
    "        self.G_opt = torch.optim.Adam(self.G_model.parameters(), lr = beta)\n",
    "\n",
    "    def GP(self, real_image, fake_image):\n",
    "        batch_size,_,_,_ = real_image.shape\n",
    "        alpha = torch.randn(batch_size,1,1,1)\n",
    "        interpolated_image = alpha * real_image + (1 - alpha) * fake_image\n",
    "        interpolated_image.requires_grad = True\n",
    "        output = self.D_model(interpolated_image)\n",
    "        grad = torch.autograd.grad(\n",
    "            outputs = output,\n",
    "            inputs = interpolated_image,\n",
    "            grad_outputs = torch.ones_like(interpolated_image)\n",
    "        )\n",
    "        grad = grad.reshape(batch_size, -1)\n",
    "        grad_norm = grad.norm(2, dim = 1)\n",
    "        penalty = torch.mean((grad_norm - 1)**2)\n",
    "\n",
    "        return penalty\n",
    "    \n",
    "    def train(self):\n",
    "        for idx , (image, label, onehot, real_image_with_label) in enumerate(data_loader):\n",
    "            batch_size,_,img_size , _ = image.shape\n",
    "            real_image_with_label = real_image_with_label.to(device)\n",
    "            image = image.to(device)\n",
    "            label = label.to(device)\n",
    "            onehot = onehot.to(device)\n",
    "\n",
    "            noise = torch.randn(batch_size, 100, 1, 1)\n",
    "            one_hot = one_hot.reshape(batch_size, 2, 1, 1)\n",
    "            noise = torch.cat([noise, one_hot], dim = 1)\n",
    "            noise = noise.to(device)            \n",
    "            fake_image = self.G_model(noise)\n",
    "\n",
    "\n",
    "            fake_label = real_image_with_label[:, 3:, :, :]\n",
    "            fake_label = fake_label.to(device)\n",
    "            \n",
    "            fake_image_with_label = torch.cat([fake_image, fake_label], dim = 1)\n",
    "\n",
    "            D_real_pred = self.D_model(real_image_with_label)\n",
    "            D_fake_pred = self.D_model(fake_image_with_label.detach())\n",
    "\n",
    "            D_loss = D_fake_pred - D_real_pred + self.lembda * self.GP(fake_image, image.to(device))\n",
    "\n",
    "            self.D_opt.zero_grad()\n",
    "\n",
    "            D_loss.backward()\n",
    "\n",
    "            self.D_opt.step()\n",
    "\n",
    "            G_loss = -torch.mean(self.D_model(fake_image_with_label))\n",
    "\n",
    "            self.G_opt.zero_grad()\n",
    "\n",
    "            G_loss.backward()\n",
    "\n",
    "            self.G_opt.step()"
   ]
  },
  {
   "cell_type": "code",
   "execution_count": 1,
   "id": "dd2ca219",
   "metadata": {},
   "outputs": [],
   "source": [
    "import torch"
   ]
  },
  {
   "cell_type": "code",
   "execution_count": 9,
   "id": "95dc0f11",
   "metadata": {},
   "outputs": [
    {
     "name": "stdout",
     "output_type": "stream",
     "text": [
      "tensor([[0.7008, 0.3281]])\n"
     ]
    }
   ],
   "source": [
    "a = torch.rand(1,2)\n",
    "print(a)"
   ]
  },
  {
   "cell_type": "code",
   "execution_count": 10,
   "id": "e7056e35",
   "metadata": {},
   "outputs": [
    {
     "name": "stdout",
     "output_type": "stream",
     "text": [
      "tensor([[[0.7008]],\n",
      "\n",
      "        [[0.3281]]])\n"
     ]
    }
   ],
   "source": [
    "a = a.reshape(2,1,1)\n",
    "print(a)"
   ]
  },
  {
   "cell_type": "code",
   "execution_count": 3,
   "id": "5ec96b99",
   "metadata": {},
   "outputs": [],
   "source": [
    "a = a.unsqueeze(2)"
   ]
  },
  {
   "cell_type": "code",
   "execution_count": 6,
   "id": "5c810625",
   "metadata": {},
   "outputs": [],
   "source": [
    "a = a.transpose(0,1)"
   ]
  },
  {
   "cell_type": "code",
   "execution_count": 7,
   "id": "e289a33a",
   "metadata": {},
   "outputs": [
    {
     "name": "stdout",
     "output_type": "stream",
     "text": [
      "tensor([[[0.4102]],\n",
      "\n",
      "        [[0.1985]]])\n"
     ]
    }
   ],
   "source": [
    "print(a)"
   ]
  },
  {
   "cell_type": "code",
   "execution_count": 8,
   "id": "0ed5ce49",
   "metadata": {},
   "outputs": [
    {
     "name": "stdout",
     "output_type": "stream",
     "text": [
      "torch.Size([2, 1, 1])\n"
     ]
    }
   ],
   "source": [
    "print(a.shape)"
   ]
  },
  {
   "cell_type": "code",
   "execution_count": null,
   "id": "11129d36",
   "metadata": {},
   "outputs": [],
   "source": []
  }
 ],
 "metadata": {
  "kernelspec": {
   "display_name": "Python 3",
   "language": "python",
   "name": "python3"
  },
  "language_info": {
   "codemirror_mode": {
    "name": "ipython",
    "version": 3
   },
   "file_extension": ".py",
   "mimetype": "text/x-python",
   "name": "python",
   "nbconvert_exporter": "python",
   "pygments_lexer": "ipython3",
   "version": "3.10.11"
  }
 },
 "nbformat": 4,
 "nbformat_minor": 5
}
