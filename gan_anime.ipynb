{
 "cells": [
  {
   "cell_type": "code",
   "execution_count": 1,
   "id": "cfa104c8",
   "metadata": {},
   "outputs": [
    {
     "name": "stdout",
     "output_type": "stream",
     "text": [
      "Please provide your Kaggle credentials to download this dataset. Learn more: http://bit.ly/kaggle-creds\n",
      "Your Kaggle username:Your Kaggle Key:Dataset URL: https://www.kaggle.com/datasets/splcher/animefacedataset\n",
      "Downloading animefacedataset.zip to .\\animefacedataset\n"
     ]
    },
    {
     "name": "stderr",
     "output_type": "stream",
     "text": [
      "100%|██████████| 395M/395M [00:01<00:00, 406MB/s] \n"
     ]
    },
    {
     "name": "stdout",
     "output_type": "stream",
     "text": [
      "\n"
     ]
    }
   ],
   "source": [
    "import opendatasets as od\n",
    "od.download(\"https://www.kaggle.com/datasets/splcher/animefacedataset\")"
   ]
  },
  {
   "cell_type": "code",
   "execution_count": 2,
   "id": "5616b553",
   "metadata": {},
   "outputs": [],
   "source": [
    "data_dir = './animefacedataset/images'"
   ]
  },
  {
   "cell_type": "code",
   "execution_count": 4,
   "id": "7a8c38c0",
   "metadata": {},
   "outputs": [],
   "source": [
    "import torch\n",
    "import torch.nn as nn"
   ]
  },
  {
   "cell_type": "code",
   "execution_count": 5,
   "id": "969a7fad",
   "metadata": {},
   "outputs": [],
   "source": [
    "class Discriminator():\n",
    "    def __init__(self, input_channel, output_channel):\n",
    "        super().__init__()\n",
    "        self.layer = nn.Sequential(\n",
    "            nn.Conv2d(3, 64, 4, 2, 1, bias=False),\n",
    "            nn.LeakyReLU(0.2, inplace=True),\n",
    "            nn.Conv2d(64, 128, 4, 2, 1, bias=False),\n",
    "            nn.BatchNorm2d(128),\n",
    "            nn.LeakyReLU(0.2, inplace=True),\n",
    "            nn.Conv2d(128, 256, 4, 2, 1, bias=False),\n",
    "            nn.BatchNorm2d(256),\n",
    "            nn.LeakyReLU(0.2, inplace=True),\n",
    "            nn.Conv2d(256, 512, 4, 2, 1, bias=False),\n",
    "            nn.BatchNorm2d(512),\n",
    "            nn.LeakyReLU(0.2, inplace=True),\n",
    "            nn.Conv2d(512, 1, 4, 1, 0, bias=False),\n",
    "            nn.Sigmoid()\n",
    "            )\n",
    "        \n",
    "    def forward(self, x):\n",
    "        batch_size, _, _, _ = x.shape\n",
    "        x = self.layer(x)\n",
    "        x = x.reshape(batch_size,-1)"
   ]
  },
  {
   "cell_type": "code",
   "execution_count": null,
   "id": "bca7ca89",
   "metadata": {},
   "outputs": [],
   "source": [
    "class Generator(nn.Module):\n",
    "    def __init__(self):\n",
    "        super().__init__()\n",
    "        self.layer = nn.Sequential(\n",
    "        nn.ConvTranspose2d(100, 512, 4, 1, 0, bias=False),\n",
    "        nn.BatchNorm2d(512),\n",
    "        nn.ReLU(inplace=True),\n",
    "        nn.ConvTranspose2d(512, 256, 4, 2, 1, bias=False),\n",
    "        nn.BatchNorm2d(256),\n",
    "        nn.ReLU(inplace=True),\n",
    "        nn.ConvTranspose2d(256, 128, 4, 2, 1, bias=False),\n",
    "        nn.BatchNorm2d(128),\n",
    "        nn.ReLU(inplace=True),\n",
    "        nn.ConvTranspose2d(128, 64, 4, 2, 1, bias=False),\n",
    "        nn.BatchNorm2d(64),\n",
    "        nn.ReLU(inplace=True),\n",
    "        nn.ConvTranspose2d(64, 3, 4, 2, 1, bias=False),\n",
    "        nn.Tanh())\n",
    "\n",
    "    def forward(self, x):\n",
    "        return self.layer(x)"
   ]
  },
  {
   "cell_type": "code",
   "execution_count": null,
   "id": "968bf1d1",
   "metadata": {},
   "outputs": [],
   "source": [
    "device = torch.device('cuda' if torch.cuda.is_available() else 'cpu')"
   ]
  },
  {
   "cell_type": "code",
   "execution_count": 6,
   "id": "b00ee4ae",
   "metadata": {},
   "outputs": [],
   "source": [
    "from torch.utils.data import Dataset, DataLoader"
   ]
  },
  {
   "cell_type": "code",
   "execution_count": 8,
   "id": "d80fef2a",
   "metadata": {},
   "outputs": [],
   "source": [
    "import torchvision.transforms as T"
   ]
  },
  {
   "cell_type": "code",
   "execution_count": null,
   "id": "6c5ee0ec",
   "metadata": {},
   "outputs": [],
   "source": [
    "transform = T.Compose([T.Resize((64, 64)),\n",
    "            T.ToTensor(),\n",
    "            T.Normalize([0.5, 0.5, 0.5], [0.5, 0.5, 0.5])]\n",
    " )"
   ]
  },
  {
   "cell_type": "code",
   "execution_count": null,
   "id": "56718047",
   "metadata": {},
   "outputs": [],
   "source": [
    "class MyDataset(Dataset):\n",
    "    def __init__(self, real_image, transform):\n",
    "        self.real_image = real_image\n",
    "        self.transform = transform\n",
    "\n",
    "    def __len__(self):\n",
    "        return self.real_image\n",
    "    \n",
    "    def __getitem__(self, idx):\n",
    "        return self.transform(self.real_image[idx])"
   ]
  },
  {
   "cell_type": "code",
   "execution_count": null,
   "id": "1971ea5f",
   "metadata": {},
   "outputs": [],
   "source": [
    "class Model():\n",
    "    def __init__(self, batch_size = 128, num_epochs = 10, alpha = 0.001, beta = 0.001):\n",
    "        self.G_model = Generator()\n",
    "        self.D_model = Discriminator()\n",
    "        self.G_opt = torch.optim.Adam(self.G_model.parameters(), lr = alpha)\n",
    "        self.D_opt = torch.optim.Adam(self.D_model.parameters(), lr = beta)\n",
    "        self.criterion = nn.BCELoss()\n",
    "        self.batch_size = batch_size\n",
    "        self.num_epochs = num_epochs\n",
    "\n",
    "    def train(self):\n",
    "        for i in range(self.num_epochs):\n",
    "            for idx, real_image in enumerate(data_loader):\n",
    "                real_image = real_image.to(device)\n",
    "                noise = torch.randn(self.batch_size, 100, 1, 1)\n",
    "                noise = noise.to(device)\n",
    "\n",
    "                fake_image = self.G_model(noise)\n",
    "\n",
    "                for params in self.D_model.parameters():\n",
    "                    params.requires_grad = True\n",
    "\n",
    "                D_real_pred = self.D_model(real_image)\n",
    "                D_fake_pred = self.D_model(fake_image.detach())\n",
    "\n",
    "                D_real_loss = self.criterion(D_real_pred, torch.ones_like(D_real_pred))\n",
    "                D_fake_loss = self.criterion(D_fake_pred, torch.zeros_like(D_fake_pred))\n",
    "\n",
    "                D_loss = 0.5 * (D_real_loss + D_fake_loss)\n",
    "\n",
    "                self.D_opt.zero_grad()\n",
    "\n",
    "                D_loss.backward()\n",
    "\n",
    "                self.D_opt.step()\n",
    "\n",
    "                for params in self.D_model.parameters():\n",
    "                    params.requires_grad = False\n",
    "\n",
    "                D_pred_for_gan = self.D_model(fake_image)\n",
    "                G_loss = self.criterion(D_pred_for_gan, torch.ones_like(D_pred_for_gan))\n",
    "\n",
    "                self.G_opt.zero_grad()\n",
    "\n",
    "                G_loss.backward()\n",
    "\n",
    "                self.G_opt.step()\n"
   ]
  }
 ],
 "metadata": {
  "kernelspec": {
   "display_name": "Python 3",
   "language": "python",
   "name": "python3"
  },
  "language_info": {
   "codemirror_mode": {
    "name": "ipython",
    "version": 3
   },
   "file_extension": ".py",
   "mimetype": "text/x-python",
   "name": "python",
   "nbconvert_exporter": "python",
   "pygments_lexer": "ipython3",
   "version": "3.10.11"
  }
 },
 "nbformat": 4,
 "nbformat_minor": 5
}
