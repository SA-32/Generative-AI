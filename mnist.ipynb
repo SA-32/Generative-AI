{
 "cells": [
  {
   "cell_type": "code",
   "execution_count": 25,
   "id": "e9f107a0",
   "metadata": {},
   "outputs": [
    {
     "name": "stdout",
     "output_type": "stream",
     "text": [
      "Requirement already satisfied: opendatasets in c:\\users\\harry\\appdata\\local\\packages\\pythonsoftwarefoundation.python.3.10_qbz5n2kfra8p0\\localcache\\local-packages\\python310\\site-packages (0.1.22)\n",
      "Requirement already satisfied: tqdm in c:\\users\\harry\\appdata\\local\\packages\\pythonsoftwarefoundation.python.3.10_qbz5n2kfra8p0\\localcache\\local-packages\\python310\\site-packages (from opendatasets) (4.67.1)\n",
      "Requirement already satisfied: kaggle in c:\\users\\harry\\appdata\\local\\packages\\pythonsoftwarefoundation.python.3.10_qbz5n2kfra8p0\\localcache\\local-packages\\python310\\site-packages (from opendatasets) (1.7.4.5)\n",
      "Requirement already satisfied: click in c:\\users\\harry\\appdata\\local\\packages\\pythonsoftwarefoundation.python.3.10_qbz5n2kfra8p0\\localcache\\local-packages\\python310\\site-packages (from opendatasets) (8.1.8)\n",
      "Requirement already satisfied: colorama in c:\\users\\harry\\appdata\\local\\packages\\pythonsoftwarefoundation.python.3.10_qbz5n2kfra8p0\\localcache\\local-packages\\python310\\site-packages (from click->opendatasets) (0.4.6)\n",
      "Requirement already satisfied: bleach in c:\\users\\harry\\appdata\\local\\packages\\pythonsoftwarefoundation.python.3.10_qbz5n2kfra8p0\\localcache\\local-packages\\python310\\site-packages (from kaggle->opendatasets) (6.2.0)\n",
      "Requirement already satisfied: certifi>=14.05.14 in c:\\users\\harry\\appdata\\local\\packages\\pythonsoftwarefoundation.python.3.10_qbz5n2kfra8p0\\localcache\\local-packages\\python310\\site-packages (from kaggle->opendatasets) (2024.8.30)\n",
      "Requirement already satisfied: charset-normalizer in c:\\users\\harry\\appdata\\local\\packages\\pythonsoftwarefoundation.python.3.10_qbz5n2kfra8p0\\localcache\\local-packages\\python310\\site-packages (from kaggle->opendatasets) (3.4.0)\n",
      "Requirement already satisfied: idna in c:\\users\\harry\\appdata\\local\\packages\\pythonsoftwarefoundation.python.3.10_qbz5n2kfra8p0\\localcache\\local-packages\\python310\\site-packages (from kaggle->opendatasets) (3.10)\n",
      "Requirement already satisfied: protobuf in c:\\users\\harry\\appdata\\local\\packages\\pythonsoftwarefoundation.python.3.10_qbz5n2kfra8p0\\localcache\\local-packages\\python310\\site-packages (from kaggle->opendatasets) (5.29.4)\n",
      "Requirement already satisfied: python-dateutil>=2.5.3 in c:\\users\\harry\\appdata\\local\\packages\\pythonsoftwarefoundation.python.3.10_qbz5n2kfra8p0\\localcache\\local-packages\\python310\\site-packages (from kaggle->opendatasets) (2.9.0.post0)\n",
      "Requirement already satisfied: python-slugify in c:\\users\\harry\\appdata\\local\\packages\\pythonsoftwarefoundation.python.3.10_qbz5n2kfra8p0\\localcache\\local-packages\\python310\\site-packages (from kaggle->opendatasets) (8.0.4)\n",
      "Requirement already satisfied: requests in c:\\users\\harry\\appdata\\local\\packages\\pythonsoftwarefoundation.python.3.10_qbz5n2kfra8p0\\localcache\\local-packages\\python310\\site-packages (from kaggle->opendatasets) (2.32.3)\n",
      "Requirement already satisfied: setuptools>=21.0.0 in c:\\program files\\windowsapps\\pythonsoftwarefoundation.python.3.10_3.10.3056.0_x64__qbz5n2kfra8p0\\lib\\site-packages (from kaggle->opendatasets) (65.5.0)\n",
      "Requirement already satisfied: six>=1.10 in c:\\users\\harry\\appdata\\local\\packages\\pythonsoftwarefoundation.python.3.10_qbz5n2kfra8p0\\localcache\\local-packages\\python310\\site-packages (from kaggle->opendatasets) (1.16.0)\n",
      "Requirement already satisfied: text-unidecode in c:\\users\\harry\\appdata\\local\\packages\\pythonsoftwarefoundation.python.3.10_qbz5n2kfra8p0\\localcache\\local-packages\\python310\\site-packages (from kaggle->opendatasets) (1.3)\n",
      "Requirement already satisfied: urllib3>=1.15.1 in c:\\users\\harry\\appdata\\local\\packages\\pythonsoftwarefoundation.python.3.10_qbz5n2kfra8p0\\localcache\\local-packages\\python310\\site-packages (from kaggle->opendatasets) (2.2.3)\n",
      "Requirement already satisfied: webencodings in c:\\users\\harry\\appdata\\local\\packages\\pythonsoftwarefoundation.python.3.10_qbz5n2kfra8p0\\localcache\\local-packages\\python310\\site-packages (from kaggle->opendatasets) (0.5.1)\n"
     ]
    }
   ],
   "source": [
    "!pip install opendatasets"
   ]
  },
  {
   "cell_type": "code",
   "execution_count": 26,
   "id": "bb23b67d",
   "metadata": {},
   "outputs": [],
   "source": [
    "import opendatasets as od"
   ]
  },
  {
   "cell_type": "code",
   "execution_count": 28,
   "id": "516f981d",
   "metadata": {},
   "outputs": [
    {
     "name": "stdout",
     "output_type": "stream",
     "text": [
      "Please provide your Kaggle credentials to download this dataset. Learn more: http://bit.ly/kaggle-creds\n",
      "Your Kaggle username:Your Kaggle Key:Dataset URL: https://www.kaggle.com/datasets/zalando-research/fashionmnist\n",
      "Downloading fashionmnist.zip to .\\fashionmnist\n"
     ]
    },
    {
     "name": "stderr",
     "output_type": "stream",
     "text": [
      "100%|██████████| 68.8M/68.8M [00:00<00:00, 944MB/s]"
     ]
    },
    {
     "name": "stdout",
     "output_type": "stream",
     "text": [
      "\n"
     ]
    },
    {
     "name": "stderr",
     "output_type": "stream",
     "text": [
      "\n"
     ]
    }
   ],
   "source": [
    "od.download(\"https://www.kaggle.com/datasets/zalando-research/fashionmnist\")"
   ]
  },
  {
   "cell_type": "code",
   "execution_count": 29,
   "id": "cb4e7908",
   "metadata": {},
   "outputs": [],
   "source": [
    "data_dir = './fashionmnist'"
   ]
  },
  {
   "cell_type": "code",
   "execution_count": 31,
   "id": "7d96521b",
   "metadata": {},
   "outputs": [
    {
     "name": "stdout",
     "output_type": "stream",
     "text": [
      "./fashionmnist\n"
     ]
    }
   ],
   "source": [
    "print(data_dir)"
   ]
  },
  {
   "cell_type": "code",
   "execution_count": 33,
   "id": "5c82ed93",
   "metadata": {},
   "outputs": [],
   "source": [
    "import torch\n",
    "import numpy as np\n",
    "import torch.nn as nn\n",
    "from torch.utils.data import Dataset, DataLoader\n",
    "import torchvision.transforms as T\n",
    "import torchvision"
   ]
  },
  {
   "cell_type": "code",
   "execution_count": 34,
   "id": "8cef8b94",
   "metadata": {},
   "outputs": [
    {
     "data": {
      "text/plain": [
       "<torch._C.Generator at 0x23f8e918710>"
      ]
     },
     "execution_count": 34,
     "metadata": {},
     "output_type": "execute_result"
    }
   ],
   "source": [
    "torch.manual_seed(42)"
   ]
  },
  {
   "cell_type": "code",
   "execution_count": 35,
   "id": "51226f61",
   "metadata": {},
   "outputs": [],
   "source": [
    "transform = T.Compose(\n",
    "    [T.ToTensor(),\n",
    "     T.Normalize([0.5],[0.5])]\n",
    ")"
   ]
  },
  {
   "cell_type": "code",
   "execution_count": 39,
   "id": "83484cef",
   "metadata": {},
   "outputs": [],
   "source": [
    "class NeuralNet(nn.Module):\n",
    "    def __init__(self, input_dims, hidden_dims, out_dims):\n",
    "        super().__init__()\n",
    "        self.fc1 = nn.Linear(input_dims, hidden_dims)\n",
    "        self.fc2 = nn.Linear(hidden_dims, hidden_dims)\n",
    "        self.fc3 = nn.Linear(hidden_dims, hidden_dims)\n",
    "        self.fc4 = nn.Linear(hidden_dims, out_dims)\n",
    "\n",
    "    def forward(self, x):\n",
    "        x = torch.relu(self.fc1(x))\n",
    "        x = torch.relu(self.fc2(x))\n",
    "        x = torch.relu(self.fc3(x))\n",
    "        x = torch.sigmoid(self.fc4(x))\n",
    "\n",
    "        return x"
   ]
  },
  {
   "cell_type": "code",
   "execution_count": 40,
   "id": "a049e570",
   "metadata": {},
   "outputs": [],
   "source": [
    "device = torch.device('cuda' if torch.cuda.is_available() else 'cpu')"
   ]
  },
  {
   "cell_type": "code",
   "execution_count": 41,
   "id": "2274ff6e",
   "metadata": {},
   "outputs": [],
   "source": [
    "model = NeuralNet(input_dims = 28 * 28, hidden_dims = 128, out_dims = 10).to(device)"
   ]
  },
  {
   "cell_type": "code",
   "execution_count": null,
   "id": "7eb86772",
   "metadata": {},
   "outputs": [],
   "source": [
    "class MyDataset(Dataset):\n",
    "    def __init__(self, x, y):\n",
    "        self.x = x.values\n",
    "        self.y = y.values\n",
    "\n",
    "    def __len__(self):\n",
    "        return len(self.x)\n",
    "    \n",
    "    def __getitem__(self, idx):\n",
    "        return torch.tensor(self.x[idx], dtype = torch.float32), torch.tensor(self.y[idx], dtype = torch.float32)"
   ]
  },
  {
   "cell_type": "code",
   "execution_count": 59,
   "id": "d6f829f0",
   "metadata": {},
   "outputs": [],
   "source": [
    "train_set_dir = \"C:\\\\Users\\\\harry\\\\OneDrive\\\\Desktop\\\\Generative AI\\\\fashionmnist\\\\fashion-mnist_train.csv\""
   ]
  },
  {
   "cell_type": "code",
   "execution_count": 60,
   "id": "5ffd124d",
   "metadata": {},
   "outputs": [],
   "source": [
    "import pandas as pd"
   ]
  },
  {
   "cell_type": "code",
   "execution_count": 61,
   "id": "54cbb705",
   "metadata": {},
   "outputs": [],
   "source": [
    "data = pd.read_csv(train_set_dir)"
   ]
  },
  {
   "cell_type": "code",
   "execution_count": 62,
   "id": "1e320613",
   "metadata": {},
   "outputs": [
    {
     "name": "stdout",
     "output_type": "stream",
     "text": [
      "   label  pixel1  pixel2  pixel3  pixel4  pixel5  pixel6  pixel7  pixel8  \\\n",
      "0      2       0       0       0       0       0       0       0       0   \n",
      "1      9       0       0       0       0       0       0       0       0   \n",
      "2      6       0       0       0       0       0       0       0       5   \n",
      "3      0       0       0       0       1       2       0       0       0   \n",
      "4      3       0       0       0       0       0       0       0       0   \n",
      "\n",
      "   pixel9  ...  pixel775  pixel776  pixel777  pixel778  pixel779  pixel780  \\\n",
      "0       0  ...         0         0         0         0         0         0   \n",
      "1       0  ...         0         0         0         0         0         0   \n",
      "2       0  ...         0         0         0        30        43         0   \n",
      "3       0  ...         3         0         0         0         0         1   \n",
      "4       0  ...         0         0         0         0         0         0   \n",
      "\n",
      "   pixel781  pixel782  pixel783  pixel784  \n",
      "0         0         0         0         0  \n",
      "1         0         0         0         0  \n",
      "2         0         0         0         0  \n",
      "3         0         0         0         0  \n",
      "4         0         0         0         0  \n",
      "\n",
      "[5 rows x 785 columns]\n"
     ]
    }
   ],
   "source": [
    "print(data.head())"
   ]
  },
  {
   "cell_type": "code",
   "execution_count": 63,
   "id": "92125f6e",
   "metadata": {},
   "outputs": [],
   "source": [
    "X = data.iloc[:,1:]"
   ]
  },
  {
   "cell_type": "code",
   "execution_count": 64,
   "id": "117761ac",
   "metadata": {},
   "outputs": [
    {
     "name": "stdout",
     "output_type": "stream",
     "text": [
      "   pixel1  pixel2  pixel3  pixel4  pixel5  pixel6  pixel7  pixel8  pixel9  \\\n",
      "0       0       0       0       0       0       0       0       0       0   \n",
      "1       0       0       0       0       0       0       0       0       0   \n",
      "2       0       0       0       0       0       0       0       5       0   \n",
      "3       0       0       0       1       2       0       0       0       0   \n",
      "4       0       0       0       0       0       0       0       0       0   \n",
      "\n",
      "   pixel10  ...  pixel775  pixel776  pixel777  pixel778  pixel779  pixel780  \\\n",
      "0        0  ...         0         0         0         0         0         0   \n",
      "1        0  ...         0         0         0         0         0         0   \n",
      "2        0  ...         0         0         0        30        43         0   \n",
      "3        0  ...         3         0         0         0         0         1   \n",
      "4        0  ...         0         0         0         0         0         0   \n",
      "\n",
      "   pixel781  pixel782  pixel783  pixel784  \n",
      "0         0         0         0         0  \n",
      "1         0         0         0         0  \n",
      "2         0         0         0         0  \n",
      "3         0         0         0         0  \n",
      "4         0         0         0         0  \n",
      "\n",
      "[5 rows x 784 columns]\n"
     ]
    }
   ],
   "source": [
    "print(X.head())"
   ]
  },
  {
   "cell_type": "code",
   "execution_count": 65,
   "id": "4968b617",
   "metadata": {},
   "outputs": [],
   "source": [
    "y = data.iloc[:,0:1]"
   ]
  },
  {
   "cell_type": "code",
   "execution_count": 66,
   "id": "35bca0ad",
   "metadata": {},
   "outputs": [],
   "source": [
    "from sklearn.model_selection import train_test_split"
   ]
  },
  {
   "cell_type": "code",
   "execution_count": 67,
   "id": "60b787ef",
   "metadata": {},
   "outputs": [],
   "source": [
    "X_train,X_val, y_train, y_val = train_test_split(X, y, test_size = 0.2)"
   ]
  },
  {
   "cell_type": "code",
   "execution_count": 74,
   "id": "0884384b",
   "metadata": {},
   "outputs": [
    {
     "name": "stdout",
     "output_type": "stream",
     "text": [
      "<class 'pandas.core.frame.DataFrame'>\n"
     ]
    }
   ],
   "source": [
    "print(type(X_train))"
   ]
  },
  {
   "cell_type": "code",
   "execution_count": 78,
   "id": "7b21692d",
   "metadata": {},
   "outputs": [
    {
     "name": "stdout",
     "output_type": "stream",
     "text": [
      "[  0   0   0   0   0   0   0   0   0   0   0   0   0   0   0   0   0   0\n",
      "   0   0   0   0   0   0   0   0   0   0   0   0   0   0   0   0   0   0\n",
      "   0   0   0   0   0   0   0   0   0   0   0   0   0   0   0   0   0   0\n",
      "   0   0   0   0   0   0   0   0   0   0   0   0   0   0   0   0   0   0\n",
      "   0   0   0   0   0   0   0   0   0   0   0   0   0   0   0   0   0   0\n",
      "   0   0   0   0   0   0   0   0   0   0   0   0   0   0   0   0   0   0\n",
      "   0   0   0   0   0   0   0   0   0   0   1   0   0   4   0   0   0  41\n",
      "  15   0   0   5   1   1   0   1   0   0   0   0   0   0   0   0   0   0\n",
      "   0   0   0   0   6   0   0 145 178 142 151 169  56   0   0   0   2   0\n",
      "   0   0   0   0   0   0   0   0   0   0   0   0   0   2   0   0 154  87\n",
      "   0   0   0   6 146 105   0   0   1   0   0   0   0   0   0   0   0   0\n",
      "   0   0   1   0   1   0   0 140 186   0   0   3   0   0 121 209  94   0\n",
      "   0   0   0   0   0   0   0   0   0   0   0   0   0   0   4   0  18 215\n",
      " 113   0   0   2   2   0  55 199 170   0   0   2   0   0   0   0   0   0\n",
      "   0   0   0   0   0   0   0   0 121 208  22   0   3   0   0   0   0 170\n",
      " 201  29   0   2   0   0   0   0   0   0   0   0   0   3   2   2   0   0\n",
      " 181 150   0   0   0   1   0   0   0 100 225 112   0   3   3   5   6   2\n",
      "   0   0   0   1   0   0   0   0   0  48 201 179   0   0   0   0   0   0\n",
      "   0   0 177 219   0   0   0   0   0   0   0   0   0   0   0  15  20   0\n",
      "   0 130 204 230   0   0   0   0   0   0   1   2 145 233 101  29  46  46\n",
      "  40   0   0   0   0   0 157 212 215 243 250 209 187 212 207 199 213 197\n",
      " 178 198 237 252 220 184 206 241 251 215 224 211 144   0   0 118 243 217\n",
      " 217 223 200 159 165 197 233 204 206 206 201 207 218 226 177 173 158 206\n",
      " 219 217 218 224 255   0   0 164 233 214 220 222 199 207 192 208 228 231\n",
      " 234 234 234 227 213 221 197 201 214 219 220 218 232 220 229 102   0 210\n",
      " 228 215 216 216 220 230 226 221 216 223 117 113 118 180 209 212 217 213\n",
      " 223 218 217 214 222 214 255 140   0 244 233 225 232 220 215 201 208 211\n",
      " 216 228 104 101  70 169 227 206 212 210 215 212 221 217 229 219 255  91\n",
      "   5 234 226 233 220 235 228 227 217 214 220 225 185 162 156 207 224 219\n",
      " 223 215 218 225 229 227 234 222 255  56  22 227 174 204 238 219 229 234\n",
      " 228 225 228 227 231 240 238 233 220 224 224 223 224 228 230 236 229 212\n",
      " 255  82  88 246 180 187 218 241 226 220 238 231 236 233 229 229 224 232\n",
      " 233 234 228 230 235 233 236 236 232 218 255  79  82 247 182 189 196 212\n",
      " 247 246 236 238 237 238 238 236 238 237 236 234 234 232 234 234 237 238\n",
      " 240 234 255  68   0 253 206 192 198 185 192 228 230 231 233 234 233 232\n",
      " 237 232 237 237 234 233 232 234 237 236 237 233 255  70   0 250 250 237\n",
      " 250 252 249 240 255 255 255 255 255 255 254 252 243 252 252 255 255 255\n",
      " 255 255 255 241 255  89   0  19  86  77  90  90  90  89  84  96  50  17\n",
      "  42 125 152 154 121  83  52  51  40  38  46  54  71  69  92   0   0   0\n",
      "   0   0   0   0   0   0   0   0   0   0   0   0   0   0   0   0   0   0\n",
      "   0   0   0   0   0   0   0   0   0   0   0   0   0   0   0   0   0   0\n",
      "   0   0   0   0   0   0   0   0   0   0   0   0   0   0   0   0   0   0\n",
      "   0   0   0   0   0   0   0   0   0   0   0   0   0   0   0   0   0   0\n",
      "   0   0   0   0   0   0   0   0   0   0]\n"
     ]
    }
   ],
   "source": [
    "print(X_train.values[0])"
   ]
  },
  {
   "cell_type": "code",
   "execution_count": 68,
   "id": "1cfeb02b",
   "metadata": {},
   "outputs": [
    {
     "name": "stdout",
     "output_type": "stream",
     "text": [
      "(48000, 784)\n",
      "(12000, 784)\n",
      "(48000, 1)\n",
      "(12000, 1)\n"
     ]
    }
   ],
   "source": [
    "print(X_train.shape)\n",
    "print(X_val.shape)\n",
    "print(y_train.shape)\n",
    "print(y_val.shape)"
   ]
  },
  {
   "cell_type": "code",
   "execution_count": 79,
   "id": "f2732910",
   "metadata": {},
   "outputs": [],
   "source": [
    "train_data = MyDataset(X_train, y_train)\n",
    "val_data = MyDataset(X_val, y_val)"
   ]
  },
  {
   "cell_type": "code",
   "execution_count": 80,
   "id": "508b03a2",
   "metadata": {},
   "outputs": [],
   "source": [
    "train_loader = DataLoader(train_data, batch_size = 64, shuffle = True, pin_memory = True)\n",
    "val_loader = DataLoader(val_data, batch_size = 128, shuffle = False)"
   ]
  },
  {
   "cell_type": "code",
   "execution_count": 82,
   "id": "4f96908f",
   "metadata": {},
   "outputs": [],
   "source": [
    "class Model_training_testing():\n",
    "    def __init__(self, model, train_loader, val_loader, learning_rate, num_epochs):\n",
    "        self.model = model\n",
    "        self.train_loader = train_loader\n",
    "        self.val_loader = val_loader\n",
    "        self.optimizer = torch.optim.Adam(self.model.parameters(), lr = learning_rate)\n",
    "        self.criterion = nn.CrossEntropyLoss()\n",
    "        self.num_epochs = num_epochs\n",
    "        self.patience = 10\n",
    "        self.step = 0\n",
    "\n",
    "    def train(self):\n",
    "        for i in range(self.num_epochs):\n",
    "            epoch_loss = 0\n",
    "            loss = []\n",
    "            for idx, (x, y) in enumerate(self.train_loader):\n",
    "                x = x.to(device)\n",
    "                y = y.to(device)\n",
    "\n",
    "                pred = self.model(x)\n",
    "\n",
    "                loss = self.criterion(pred, y)\n",
    "\n",
    "                self.optimizer.zero_grad()\n",
    "\n",
    "                loss.backward()\n",
    "\n",
    "                self.optimizer.step()\n",
    "\n",
    "                epoch_loss += loss\n",
    "\n",
    "            loss.append(epoch_loss.detach())\n",
    "\n",
    "            val_epoch_loss = 0\n",
    "            val_loss = []\n",
    "\n",
    "            for idx, (x, y) in enumerate(self.val_loader):\n",
    "                x = x.to(device)\n",
    "                y = y.to(device)\n",
    "\n",
    "                with torch.no_grad():\n",
    "                    pred = self.model(x)\n",
    "\n",
    "                loss = self.criterion(pred, y)\n",
    "\n",
    "                val_epoch_loss += loss\n",
    "\n",
    "            if val_epoch_loss < self.min_loss:\n",
    "                self.min_loss = val_epoch_loss\n",
    "                self.step = 0\n",
    "\n",
    "            elif val_epoch_loss >= self.min_loss:\n",
    "                self.step += 1\n",
    "\n",
    "            if self.step == self.patience:\n",
    "                return \n",
    "            \n",
    "project = Model_training_testing(model, train_loader, val_loader, 0.001, 5000)"
   ]
  },
  {
   "cell_type": "code",
   "execution_count": 83,
   "id": "b600471c",
   "metadata": {},
   "outputs": [],
   "source": [
    "project.model.eval()\n",
    "\n",
    "test_data = pd.read_csv(\"C:\\\\Users\\\\harry\\\\OneDrive\\\\Desktop\\\\Generative AI\\\\fashionmnist\\\\fashion-mnist_test.csv\")"
   ]
  },
  {
   "cell_type": "code",
   "execution_count": 84,
   "id": "4410f1c6",
   "metadata": {},
   "outputs": [],
   "source": [
    "X_test = test_data.iloc[:,1:]\n",
    "y_test = test_data.iloc[:,0:1]"
   ]
  },
  {
   "cell_type": "code",
   "execution_count": 85,
   "id": "2029810c",
   "metadata": {},
   "outputs": [],
   "source": [
    "test_dataset = MyDataset(X_test, y_test)\n",
    "test_loader = DataLoader(test_dataset, batch_size = 128, shuffle = False)"
   ]
  },
  {
   "cell_type": "code",
   "execution_count": null,
   "id": "269605b4",
   "metadata": {},
   "outputs": [],
   "source": [
    "for idx, (x, y) in enumerate(test_loader):\n",
    "    x = x.to(device)\n",
    "    y = y.to(device)\n",
    "\n",
    "    pred = project.model(x)\n",
    "\n",
    "    pred_label = torch.argmax(pred, dim = 1)\n",
    "\n",
    "    correct = (pred_label == y)\n"
   ]
  }
 ],
 "metadata": {
  "kernelspec": {
   "display_name": "Python 3",
   "language": "python",
   "name": "python3"
  },
  "language_info": {
   "codemirror_mode": {
    "name": "ipython",
    "version": 3
   },
   "file_extension": ".py",
   "mimetype": "text/x-python",
   "name": "python",
   "nbconvert_exporter": "python",
   "pygments_lexer": "ipython3",
   "version": "3.10.11"
  }
 },
 "nbformat": 4,
 "nbformat_minor": 5
}
